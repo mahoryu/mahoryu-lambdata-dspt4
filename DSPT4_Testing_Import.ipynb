{
  "nbformat": 4,
  "nbformat_minor": 0,
  "metadata": {
    "colab": {
      "name": "DSPT4 Testing Import.ipynb",
      "provenance": [],
      "authorship_tag": "ABX9TyMekZw1ZUHPVDENdCz9vBap",
      "include_colab_link": true
    },
    "kernelspec": {
      "name": "python3",
      "display_name": "Python 3"
    }
  },
  "cells": [
    {
      "cell_type": "markdown",
      "metadata": {
        "id": "view-in-github",
        "colab_type": "text"
      },
      "source": [
        "<a href=\"https://colab.research.google.com/github/mahoryu/mahoryu-lambdata-dspt4/blob/master/DSPT4_Testing_Import.ipynb\" target=\"_parent\"><img src=\"https://colab.research.google.com/assets/colab-badge.svg\" alt=\"Open In Colab\"/></a>"
      ]
    },
    {
      "cell_type": "code",
      "metadata": {
        "id": "52w8Z6vNmSUu",
        "colab_type": "code",
        "colab": {
          "base_uri": "https://localhost:8080/",
          "height": 51
        },
        "outputId": "2f93143b-3faf-4fb2-9bc9-fd9ed2fc5e1b"
      },
      "source": [
        "!pip install -i https://test.pypi.org/simple/ lambdata-mahoryu\n",
        "import lambdata_mahoryu.my_mod as lambdata\n",
        "import pandas as pd"
      ],
      "execution_count": 5,
      "outputs": [
        {
          "output_type": "stream",
          "text": [
            "Looking in indexes: https://test.pypi.org/simple/\n",
            "Requirement already satisfied: lambdata-mahoryu in /usr/local/lib/python3.6/dist-packages (1.0)\n"
          ],
          "name": "stdout"
        }
      ]
    },
    {
      "cell_type": "code",
      "metadata": {
        "id": "YlLht16kmdFC",
        "colab_type": "code",
        "colab": {
          "base_uri": "https://localhost:8080/",
          "height": 85
        },
        "outputId": "1994a42e-ef13-49a8-e9c8-025ccbfbc32b"
      },
      "source": [
        "df = pd.DataFrame({\"x\":[1,2,3],\"y\":[4,5,6],\"date\":[\"1/2/2018\",\"6/7/2019\",\"2/8/2007\"],\"Hello\":[\"my\",\"name\",\"Bob\"]})\n",
        "print(df.head())"
      ],
      "execution_count": 6,
      "outputs": [
        {
          "output_type": "stream",
          "text": [
            "   x  y      date Hello\n",
            "0  1  4  1/2/2018    my\n",
            "1  2  5  6/7/2019  name\n",
            "2  3  6  2/8/2007   Bob\n"
          ],
          "name": "stdout"
        }
      ]
    },
    {
      "cell_type": "code",
      "metadata": {
        "id": "piK3xVmVmsin",
        "colab_type": "code",
        "colab": {
          "base_uri": "https://localhost:8080/",
          "height": 255
        },
        "outputId": "defbe9de-d298-4aed-b5ff-07d31cbba62d"
      },
      "source": [
        "print(lambdata.enlarge(323),\"\\n\")\n",
        "print(lambdata.split_date(df, \"date\"),\"\\n\")\n",
        "print(lambdata.double_data(df))"
      ],
      "execution_count": 8,
      "outputs": [
        {
          "output_type": "stream",
          "text": [
            "32300 \n",
            "\n",
            "   x  y Hello  Month  Day  Year\n",
            "0  1  4    my      1    2  2018\n",
            "1  2  5  name      6    7  2019\n",
            "2  3  6   Bob      2    8  2007 \n",
            "\n",
            "   x  y       date Hello  Month  Day  Year\n",
            "0  1  4 2018-01-02    my      1    2  2018\n",
            "1  2  5 2019-06-07  name      6    7  2019\n",
            "2  3  6 2007-02-08   Bob      2    8  2007\n",
            "3  1  4 2018-01-02    my      1    2  2018\n",
            "4  2  5 2019-06-07  name      6    7  2019\n",
            "5  3  6 2007-02-08   Bob      2    8  2007\n"
          ],
          "name": "stdout"
        }
      ]
    }
  ]
}